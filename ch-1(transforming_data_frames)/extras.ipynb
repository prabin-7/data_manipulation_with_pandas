{
 "cells": [
  {
   "cell_type": "code",
   "execution_count": null,
   "metadata": {},
   "outputs": [],
   "source": [
    "import pandas as pd\n",
    "homeless = pd.read_csv('homelessness.csv', index_col= 0)"
   ]
  },
  {
   "cell_type": "code",
   "execution_count": null,
   "metadata": {},
   "outputs": [
    {
     "data": {
      "text/plain": [
       "                   state              region\n",
       "0                Alabama  East South Central\n",
       "1                 Alaska             Pacific\n",
       "2                Arizona            Mountain\n",
       "3               Arkansas  West South Central\n",
       "4             California             Pacific\n",
       "5               Colorado            Mountain\n",
       "6            Connecticut         New England\n",
       "7               Delaware      South Atlantic\n",
       "8   District of Columbia      South Atlantic\n",
       "9                Florida      South Atlantic\n",
       "10               Georgia      South Atlantic\n",
       "11                Hawaii             Pacific\n",
       "12                 Idaho            Mountain\n",
       "13              Illinois  East North Central\n",
       "14               Indiana  East North Central\n",
       "15                  Iowa  West North Central\n",
       "16                Kansas  West North Central\n",
       "17              Kentucky  East South Central\n",
       "18             Louisiana  West South Central\n",
       "19                 Maine         New England\n",
       "20              Maryland      South Atlantic\n",
       "21         Massachusetts         New England\n",
       "22              Michigan  East North Central\n",
       "23             Minnesota  West North Central\n",
       "24           Mississippi  East South Central\n",
       "25              Missouri  West North Central\n",
       "26               Montana            Mountain\n",
       "27              Nebraska  West North Central\n",
       "28                Nevada            Mountain\n",
       "29         New Hampshire         New England\n",
       "30            New Jersey        Mid-Atlantic\n",
       "31            New Mexico            Mountain\n",
       "32              New York        Mid-Atlantic\n",
       "33        North Carolina      South Atlantic\n",
       "34          North Dakota  West North Central\n",
       "35                  Ohio  East North Central\n",
       "36              Oklahoma  West South Central\n",
       "37                Oregon             Pacific\n",
       "38          Pennsylvania        Mid-Atlantic\n",
       "39          Rhode Island         New England\n",
       "40        South Carolina      South Atlantic\n",
       "41          South Dakota  West North Central\n",
       "42             Tennessee  East South Central\n",
       "43                 Texas  West South Central\n",
       "44                  Utah            Mountain\n",
       "45               Vermont         New England\n",
       "46              Virginia      South Atlantic\n",
       "47            Washington             Pacific\n",
       "48         West Virginia      South Atlantic\n",
       "49             Wisconsin  East North Central\n",
       "50               Wyoming            Mountain\n"
      ]
     },
     "metadata": {},
     "output_type": "display_data"
    }
   ],
   "source": [
    "homeless[['state','region']]                #need to use double sq brackets compulsory for selecting more than one columns"
   ]
  },
  {
   "cell_type": "code",
   "execution_count": null,
   "metadata": {},
   "outputs": [
    {
     "data": {
      "text/plain": [
       "                region                 state  ...  family_members  state_pop\n",
       "36  West South Central              Oklahoma  ...          1048.0    3940235\n",
       "3   West South Central              Arkansas  ...           432.0    3009733\n",
       "18  West South Central             Louisiana  ...           519.0    4659690\n",
       "43  West South Central                 Texas  ...          6111.0   28628666\n",
       "25  West North Central              Missouri  ...          2107.0    6121623\n",
       "15  West North Central                  Iowa  ...          1038.0    3148618\n",
       "27  West North Central              Nebraska  ...           676.0    1925614\n",
       "23  West North Central             Minnesota  ...          3250.0    5606249\n",
       "41  West North Central          South Dakota  ...           323.0     878698\n",
       "16  West North Central                Kansas  ...           773.0    2911359\n",
       "34  West North Central          North Dakota  ...            75.0     758080\n",
       "8       South Atlantic  District of Columbia  ...          3134.0     701547\n",
       "48      South Atlantic         West Virginia  ...           222.0    1804291\n",
       "40      South Atlantic        South Carolina  ...           851.0    5084156\n",
       "20      South Atlantic              Maryland  ...          2230.0    6035802\n",
       "7       South Atlantic              Delaware  ...           374.0     965479\n",
       "10      South Atlantic               Georgia  ...          2556.0   10511131\n",
       "33      South Atlantic        North Carolina  ...          2817.0   10381615\n",
       "9       South Atlantic               Florida  ...          9587.0   21244317\n",
       "46      South Atlantic              Virginia  ...          2047.0    8501286\n",
       "11             Pacific                Hawaii  ...          2399.0    1420593\n",
       "47             Pacific            Washington  ...          5880.0    7523869\n",
       "1              Pacific                Alaska  ...           582.0     735139\n",
       "4              Pacific            California  ...         20964.0   39461588\n",
       "37             Pacific                Oregon  ...          3337.0    4181886\n",
       "19         New England                 Maine  ...          1066.0    1339057\n",
       "6          New England           Connecticut  ...          1696.0    3571520\n",
       "45         New England               Vermont  ...           511.0     624358\n",
       "39         New England          Rhode Island  ...           354.0    1058287\n",
       "29         New England         New Hampshire  ...           615.0    1353465\n",
       "21         New England         Massachusetts  ...         13257.0    6882635\n",
       "44            Mountain                  Utah  ...           972.0    3153550\n",
       "50            Mountain               Wyoming  ...           205.0     577601\n",
       "2             Mountain               Arizona  ...          2606.0    7158024\n",
       "28            Mountain                Nevada  ...           486.0    3027341\n",
       "26            Mountain               Montana  ...           422.0    1060665\n",
       "5             Mountain              Colorado  ...          3250.0    5691287\n",
       "12            Mountain                 Idaho  ...           715.0    1750536\n",
       "31            Mountain            New Mexico  ...           602.0    2092741\n",
       "32        Mid-Atlantic              New York  ...         52070.0   19530351\n",
       "30        Mid-Atlantic            New Jersey  ...          3350.0    8886025\n",
       "38        Mid-Atlantic          Pennsylvania  ...          5349.0   12800922\n",
       "17  East South Central              Kentucky  ...           953.0    4461153\n",
       "42  East South Central             Tennessee  ...          1744.0    6771631\n",
       "24  East South Central           Mississippi  ...           328.0    2981020\n",
       "0   East South Central               Alabama  ...           864.0    4887681\n",
       "14  East North Central               Indiana  ...          1482.0    6695497\n",
       "13  East North Central              Illinois  ...          3891.0   12723071\n",
       "22  East North Central              Michigan  ...          3142.0    9984072\n",
       "35  East North Central                  Ohio  ...          3320.0   11676341\n",
       "49  East North Central             Wisconsin  ...          2167.0    5807406\n",
       "\n",
       "[51 rows x 5 columns]\n"
      ]
     },
     "metadata": {},
     "output_type": "display_data"
    }
   ],
   "source": [
    "homeless.sort_values('region', ascending = False)"
   ]
  },
  {
   "cell_type": "code",
   "execution_count": null,
   "metadata": {},
   "outputs": [
    {
     "data": {
      "text/plain": [
       "                   state              region  state_pop\n",
       "0                Alabama  East South Central    4887681\n",
       "1                 Alaska             Pacific     735139\n",
       "2                Arizona            Mountain    7158024\n",
       "3               Arkansas  West South Central    3009733\n",
       "4             California             Pacific   39461588\n",
       "5               Colorado            Mountain    5691287\n",
       "6            Connecticut         New England    3571520\n",
       "7               Delaware      South Atlantic     965479\n",
       "8   District of Columbia      South Atlantic     701547\n",
       "9                Florida      South Atlantic   21244317\n",
       "10               Georgia      South Atlantic   10511131\n",
       "11                Hawaii             Pacific    1420593\n",
       "12                 Idaho            Mountain    1750536\n",
       "13              Illinois  East North Central   12723071\n",
       "14               Indiana  East North Central    6695497\n",
       "15                  Iowa  West North Central    3148618\n",
       "16                Kansas  West North Central    2911359\n",
       "17              Kentucky  East South Central    4461153\n",
       "18             Louisiana  West South Central    4659690\n",
       "19                 Maine         New England    1339057\n",
       "20              Maryland      South Atlantic    6035802\n",
       "21         Massachusetts         New England    6882635\n",
       "22              Michigan  East North Central    9984072\n",
       "23             Minnesota  West North Central    5606249\n",
       "24           Mississippi  East South Central    2981020\n",
       "25              Missouri  West North Central    6121623\n",
       "26               Montana            Mountain    1060665\n",
       "27              Nebraska  West North Central    1925614\n",
       "28                Nevada            Mountain    3027341\n",
       "29         New Hampshire         New England    1353465\n",
       "30            New Jersey        Mid-Atlantic    8886025\n",
       "31            New Mexico            Mountain    2092741\n",
       "32              New York        Mid-Atlantic   19530351\n",
       "33        North Carolina      South Atlantic   10381615\n",
       "34          North Dakota  West North Central     758080\n",
       "35                  Ohio  East North Central   11676341\n",
       "36              Oklahoma  West South Central    3940235\n",
       "37                Oregon             Pacific    4181886\n",
       "38          Pennsylvania        Mid-Atlantic   12800922\n",
       "39          Rhode Island         New England    1058287\n",
       "40        South Carolina      South Atlantic    5084156\n",
       "41          South Dakota  West North Central     878698\n",
       "42             Tennessee  East South Central    6771631\n",
       "43                 Texas  West South Central   28628666\n",
       "44                  Utah            Mountain    3153550\n",
       "45               Vermont         New England     624358\n",
       "46              Virginia      South Atlantic    8501286\n",
       "47            Washington             Pacific    7523869\n",
       "48         West Virginia      South Atlantic    1804291\n",
       "49             Wisconsin  East North Central    5807406\n",
       "50               Wyoming            Mountain     577601\n"
      ]
     },
     "metadata": {},
     "output_type": "display_data"
    }
   ],
   "source": [
    "homeless[['state','region','state_pop']]"
   ]
  },
  {
   "cell_type": "code",
   "execution_count": null,
   "metadata": {},
   "outputs": [],
   "source": [
    "df1 = homeless[homeless['state_pop']<5000000]"
   ]
  },
  {
   "cell_type": "code",
   "execution_count": null,
   "metadata": {},
   "outputs": [
    {
     "data": {
      "text/plain": [
       "                region                 state  ...  family_members  state_pop\n",
       "0   East South Central               Alabama  ...           864.0    4887681\n",
       "1              Pacific                Alaska  ...           582.0     735139\n",
       "3   West South Central              Arkansas  ...           432.0    3009733\n",
       "6          New England           Connecticut  ...          1696.0    3571520\n",
       "7       South Atlantic              Delaware  ...           374.0     965479\n",
       "8       South Atlantic  District of Columbia  ...          3134.0     701547\n",
       "11             Pacific                Hawaii  ...          2399.0    1420593\n",
       "12            Mountain                 Idaho  ...           715.0    1750536\n",
       "15  West North Central                  Iowa  ...          1038.0    3148618\n",
       "16  West North Central                Kansas  ...           773.0    2911359\n",
       "17  East South Central              Kentucky  ...           953.0    4461153\n",
       "18  West South Central             Louisiana  ...           519.0    4659690\n",
       "19         New England                 Maine  ...          1066.0    1339057\n",
       "24  East South Central           Mississippi  ...           328.0    2981020\n",
       "26            Mountain               Montana  ...           422.0    1060665\n",
       "27  West North Central              Nebraska  ...           676.0    1925614\n",
       "28            Mountain                Nevada  ...           486.0    3027341\n",
       "29         New England         New Hampshire  ...           615.0    1353465\n",
       "31            Mountain            New Mexico  ...           602.0    2092741\n",
       "34  West North Central          North Dakota  ...            75.0     758080\n",
       "36  West South Central              Oklahoma  ...          1048.0    3940235\n",
       "37             Pacific                Oregon  ...          3337.0    4181886\n",
       "39         New England          Rhode Island  ...           354.0    1058287\n",
       "41  West North Central          South Dakota  ...           323.0     878698\n",
       "44            Mountain                  Utah  ...           972.0    3153550\n",
       "45         New England               Vermont  ...           511.0     624358\n",
       "48      South Atlantic         West Virginia  ...           222.0    1804291\n",
       "50            Mountain               Wyoming  ...           205.0     577601\n",
       "\n",
       "[28 rows x 5 columns]\n"
      ]
     },
     "metadata": {},
     "output_type": "display_data"
    }
   ],
   "source": [
    "print(df1)"
   ]
  },
  {
   "cell_type": "code",
   "execution_count": null,
   "metadata": {},
   "outputs": [
    {
     "data": {
      "text/plain": [
       "                region                 state  ...  family_members  state_pop\n",
       "0   East South Central               Alabama  ...           864.0    4887681\n",
       "1              Pacific                Alaska  ...           582.0     735139\n",
       "3   West South Central              Arkansas  ...           432.0    3009733\n",
       "6          New England           Connecticut  ...          1696.0    3571520\n",
       "7       South Atlantic              Delaware  ...           374.0     965479\n",
       "8       South Atlantic  District of Columbia  ...          3134.0     701547\n",
       "11             Pacific                Hawaii  ...          2399.0    1420593\n",
       "12            Mountain                 Idaho  ...           715.0    1750536\n",
       "15  West North Central                  Iowa  ...          1038.0    3148618\n",
       "16  West North Central                Kansas  ...           773.0    2911359\n",
       "17  East South Central              Kentucky  ...           953.0    4461153\n",
       "18  West South Central             Louisiana  ...           519.0    4659690\n",
       "19         New England                 Maine  ...          1066.0    1339057\n",
       "24  East South Central           Mississippi  ...           328.0    2981020\n",
       "26            Mountain               Montana  ...           422.0    1060665\n",
       "27  West North Central              Nebraska  ...           676.0    1925614\n",
       "28            Mountain                Nevada  ...           486.0    3027341\n",
       "29         New England         New Hampshire  ...           615.0    1353465\n",
       "31            Mountain            New Mexico  ...           602.0    2092741\n",
       "34  West North Central          North Dakota  ...            75.0     758080\n",
       "36  West South Central              Oklahoma  ...          1048.0    3940235\n",
       "37             Pacific                Oregon  ...          3337.0    4181886\n",
       "39         New England          Rhode Island  ...           354.0    1058287\n",
       "41  West North Central          South Dakota  ...           323.0     878698\n",
       "44            Mountain                  Utah  ...           972.0    3153550\n",
       "45         New England               Vermont  ...           511.0     624358\n",
       "48      South Atlantic         West Virginia  ...           222.0    1804291\n",
       "50            Mountain               Wyoming  ...           205.0     577601\n",
       "\n",
       "[28 rows x 5 columns]\n"
      ]
     },
     "metadata": {},
     "output_type": "display_data"
    }
   ],
   "source": [
    "df1"
   ]
  },
  {
   "cell_type": "code",
   "execution_count": null,
   "metadata": {},
   "outputs": [
    {
     "data": {
      "text/plain": [
       "                region                 state\n",
       "0   East South Central               Alabama\n",
       "1              Pacific                Alaska\n",
       "3   West South Central              Arkansas\n",
       "6          New England           Connecticut\n",
       "7       South Atlantic              Delaware\n",
       "8       South Atlantic  District of Columbia\n",
       "11             Pacific                Hawaii\n",
       "12            Mountain                 Idaho\n",
       "15  West North Central                  Iowa\n",
       "16  West North Central                Kansas\n",
       "17  East South Central              Kentucky\n",
       "18  West South Central             Louisiana\n",
       "19         New England                 Maine\n",
       "24  East South Central           Mississippi\n"
      ]
     },
     "metadata": {},
     "output_type": "display_data"
    }
   ],
   "source": [
    "print(df1.loc[0:24,['region','state']])"
   ]
  },
  {
   "cell_type": "code",
   "execution_count": null,
   "metadata": {},
   "outputs": [
    {
     "data": {
      "text/plain": [
       "               region        state\n",
       "0  East South Central      Alabama\n",
       "1             Pacific       Alaska\n",
       "3  West South Central     Arkansas\n",
       "6         New England  Connecticut\n",
       "7      South Atlantic     Delaware\n"
      ]
     },
     "metadata": {},
     "output_type": "display_data"
    }
   ],
   "source": [
    "print(df1.iloc[0:5,0:2])"
   ]
  },
  {
   "cell_type": "code",
   "execution_count": null,
   "metadata": {},
   "outputs": [],
   "source": []
  }
 ],
 "metadata": {
  "language_info": {
   "name": "python"
  }
 },
 "nbformat": 4,
 "nbformat_minor": 2
}
